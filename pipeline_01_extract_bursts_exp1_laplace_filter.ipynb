{
 "cells": [
  {
   "cell_type": "code",
   "execution_count": 44,
   "metadata": {},
   "outputs": [],
   "source": [
    "import os\n",
    "import matplotlib.pyplot as plt\n",
    "from superlet import superlet, scale_from_period\n",
    "import mne \n",
    "# from mne import create_info\n",
    "import numpy as np\n",
    "# from burst_detection import extract_bursts\n",
    "from fooof import FOOOF\n",
    "# from autoreject import AutoReject\n",
    "import scipy.io\n",
    "\n",
    "import pandas as pd\n",
    "\n",
    "from zapline_iter import zapline_until_gone"
   ]
  },
  {
   "cell_type": "code",
   "execution_count": 11,
   "metadata": {},
   "outputs": [],
   "source": [
    "data_dir='/home/common/bonaiuto/stop_go_bursts/data/'\n",
    "output_dir='/home/qmoreau/stop_go_bursts/'"
   ]
  },
  {
   "cell_type": "code",
   "execution_count": 12,
   "metadata": {},
   "outputs": [
    {
     "data": {
      "text/plain": [
       "131.97916666666666"
      ]
     },
     "execution_count": 12,
     "metadata": {},
     "output_type": "execute_result"
    }
   ],
   "source": [
    "SSD = scipy.io.loadmat(os.path.join(data_dir, 'Dataset_1/Study5_BEH_data/S1_SSD_stop.mat'))\n",
    "SSD_data = SSD['num_align2']\n",
    "df_SSD = pd.DataFrame(SSD_data, columns=['Trial', 'Time', 'Value'])  # Assign column names if known\n",
    "# average value over all trials\n",
    "SSD_val = df_SSD['Value'].mean()\n",
    "SSD_val"
   ]
  },
  {
   "cell_type": "code",
   "execution_count": 14,
   "metadata": {},
   "outputs": [],
   "source": [
    "data_path = os.path.join(data_dir, 'Dataset_1/Study5_EEG_data/')\n",
    "electrodes = ['C3', 'F4'] # , 'C4', 'F3', 'FCz'\n",
    "subject_ids =  ['S1', 'S2', 'S3', 'S5', 'S6', 'S7', 'S8', 'S10', 'S11','S13', 'S14', 'S15']"
   ]
  },
  {
   "cell_type": "code",
   "execution_count": 17,
   "metadata": {},
   "outputs": [
    {
     "name": "stdout",
     "output_type": "stream",
     "text": [
      "Processing S1\n",
      "Reading /home/common/bonaiuto/stop_go_bursts/data/Dataset_1/Study5_EEG_data/S1_stop_eeg_emg_ica_brain.fdt\n"
     ]
    },
    {
     "name": "stderr",
     "output_type": "stream",
     "text": [
      "/home/bonaiuto/miniconda3/envs/auditory_laminar/lib/python3.7/site-packages/mne/io/eeglab/eeglab.py:152: FutureWarning: elementwise comparison failed; returning scalar instead, but in the future will perform elementwise comparison\n",
      "  if d.get(\"type\", None) != 'FID':\n",
      "/home/bonaiuto/tmp/ipykernel_55201/3190478549.py:4: RuntimeWarning: Limited 1 annotation(s) that were expanding outside the data range.\n",
      "  raw  = mne.io.read_raw_eeglab(subject_file, eog='auto', preload=False, uint16_codec=None, verbose=None)\n",
      "/home/bonaiuto/tmp/ipykernel_55201/3190478549.py:4: RuntimeWarning: The data contains 'boundary' events, indicating data discontinuities. Be cautious of filtering and epoching around these events.\n",
      "  raw  = mne.io.read_raw_eeglab(subject_file, eog='auto', preload=False, uint16_codec=None, verbose=None)\n",
      "/home/bonaiuto/tmp/ipykernel_55201/3190478549.py:4: RuntimeWarning: Not setting positions of 3 eog channels found in montage:\n",
      "['HEOG L', 'HEOG R', 'VEOG']\n",
      "Consider setting the channel types to be of EEG/sEEG/ECoG/DBS/fNIRS using inst.set_channel_types before calling inst.set_montage, or omit these channels when creating your montage.\n",
      "  raw  = mne.io.read_raw_eeglab(subject_file, eog='auto', preload=False, uint16_codec=None, verbose=None)\n"
     ]
    },
    {
     "data": {
      "text/html": [
       "<table class=\"table table-hover table-striped table-sm table-responsive small\">\n",
       "    <tr>\n",
       "        <th>Measurement date</th>\n",
       "        \n",
       "        <td>Unknown</td>\n",
       "        \n",
       "    </tr>\n",
       "    <tr>\n",
       "        <th>Experimenter</th>\n",
       "        \n",
       "        <td>Unknown</td>\n",
       "        \n",
       "    </tr>\n",
       "        <th>Participant</th>\n",
       "        \n",
       "        <td>Unknown</td>\n",
       "        \n",
       "    </tr>\n",
       "    <tr>\n",
       "        <th>Digitized points</th>\n",
       "        \n",
       "        <td>62 points</td>\n",
       "        \n",
       "    </tr>\n",
       "    <tr>\n",
       "        <th>Good channels</th>\n",
       "        <td>59 EEG, 3 EOG</td>\n",
       "    </tr>\n",
       "    <tr>\n",
       "        <th>Bad channels</th>\n",
       "        <td>None</td>\n",
       "    </tr>\n",
       "    <tr>\n",
       "        <th>EOG channels</th>\n",
       "        <td>HEOG L, HEOG R, VEOG</td>\n",
       "    </tr>\n",
       "    <tr>\n",
       "        <th>ECG channels</th>\n",
       "        <td>Not available</td>\n",
       "    \n",
       "    <tr>\n",
       "        <th>Sampling frequency</th>\n",
       "        <td>512.00 Hz</td>\n",
       "    </tr>\n",
       "    \n",
       "    \n",
       "    <tr>\n",
       "        <th>Highpass</th>\n",
       "        <td>0.00 Hz</td>\n",
       "    </tr>\n",
       "    \n",
       "    \n",
       "    <tr>\n",
       "        <th>Lowpass</th>\n",
       "        <td>256.00 Hz</td>\n",
       "    </tr>\n",
       "    \n",
       "    \n",
       "    \n",
       "    <tr>\n",
       "        <th>Filenames</th>\n",
       "        <td>S1_stop_eeg_emg_ica_brain.fdt</td>\n",
       "    </tr>\n",
       "    \n",
       "    <tr>\n",
       "        <th>Duration</th>\n",
       "        <td>01:05:38 (HH:MM:SS)</td>\n",
       "    </tr>\n",
       "</table>"
      ],
      "text/plain": [
       "<RawEEGLAB | S1_stop_eeg_emg_ica_brain.fdt, 62 x 2016057 (3937.6 s), ~87 kB, data not loaded>"
      ]
     },
     "execution_count": 17,
     "metadata": {},
     "output_type": "execute_result"
    }
   ],
   "source": [
    "subject_id=subject_ids[0]\n",
    "subject_file = data_path + subject_id + '_stop_eeg_emg_ica_brain.set'\n",
    "print(f\"Processing {subject_id}\")\n",
    "raw  = mne.io.read_raw_eeglab(subject_file, eog='auto', preload=False, uint16_codec=None, verbose=None)\n",
    "raw.rename_channels({'FP1':'Fp1', 'FP2':'Fp2'})"
   ]
  },
  {
   "cell_type": "code",
   "execution_count": 21,
   "metadata": {},
   "outputs": [],
   "source": [
    "SSD = scipy.io.loadmat(os.path.join(data_dir, f'Dataset_1/Study5_BEH_data/{subject_id}_SSD_stop.mat'))\n",
    "SSD_data = SSD['num_align2']\n",
    "df_SSD = pd.DataFrame(SSD_data, columns=['Trial', 'Time', 'Value'])  # Assign column names if known\n",
    "# average value over all trials\n",
    "SSD_val = df_SSD['Value'].mean()"
   ]
  },
  {
   "cell_type": "code",
   "execution_count": 25,
   "metadata": {},
   "outputs": [
    {
     "data": {
      "text/plain": [
       "131.97916666666666"
      ]
     },
     "execution_count": 25,
     "metadata": {},
     "output_type": "execute_result"
    }
   ],
   "source": [
    "SSD_val"
   ]
  },
  {
   "cell_type": "code",
   "execution_count": 31,
   "metadata": {},
   "outputs": [
    {
     "name": "stdout",
     "output_type": "stream",
     "text": [
      "Used Annotations descriptions: ['L_cueCG', 'L_cueFS', 'L_cueGE', 'L_cueGM', 'L_cueSS', 'L_resp', 'L_stopsigFS', 'L_stopsigSS', 'R_cueCG', 'R_cueFS', 'R_cueGE', 'R_cueGM', 'R_cueSS', 'R_cue_stop', 'R_resp', 'R_stopsig', 'R_stopsigFS', 'R_stopsigSS', 'boundary', 'fix']\n",
      "Multiple event values for single event times found. Creating new event value to reflect simultaneous events.\n",
      "Not setting metadata\n",
      "4827 matching events found\n",
      "No baseline correction applied\n",
      "0 projection items activated\n",
      "Loading data for 4827 events and 1537 original time points ...\n",
      "1 bad epochs dropped\n",
      "Fitted sphere radius:         95.0 mm\n",
      "Origin head coordinates:      0.0 0.0 40.1 mm\n",
      "Origin device coordinates:    0.0 0.0 40.1 mm\n"
     ]
    }
   ],
   "source": [
    "builtin_montages = mne.channels.get_builtin_montages(descriptions=True)\n",
    "montage = mne.channels.make_standard_montage(\"easycap-M1\")\n",
    "raw.set_montage(montage, verbose=False)\n",
    "events, event_id = mne.events_from_annotations(raw)\n",
    "# shift 'L_cueCG' and 'R_cueCG' events by SSD value\n",
    "events_shift = events.copy()\n",
    "for i in range(len(events)):\n",
    "    if events_shift[i][2] == 1 or events_shift[i][2] == 9:\n",
    "        events_shift[i][0] = events_shift[i][0] + SSD_val\n",
    "\n",
    "epochs = mne.Epochs(raw, events=events, picks = 'eeg', event_id = event_id, tmin=-1, tmax=2, baseline = None, event_repeated='merge', preload = True)\n",
    "epochs = mne.preprocessing.compute_current_source_density(epochs)"
   ]
  },
  {
   "cell_type": "code",
   "execution_count": 32,
   "metadata": {},
   "outputs": [
    {
     "data": {
      "text/html": [
       "<table class=\"table table-hover table-striped table-sm table-responsive small\">\n",
       "    <tr>\n",
       "        <th>Number of events</th>\n",
       "        <td>4826</td>\n",
       "    </tr>\n",
       "    <tr>\n",
       "        <th>Events</th>\n",
       "        \n",
       "        <td>L_cueCG: 515<br/>L_cueFS: 103<br/>L_cueGE: 1<br/>L_cueGM: 6<br/>L_cueSS: 86<br/>L_resp: 601<br/>L_resp/boundary: 1<br/>L_stopsigFS: 102<br/>L_stopsigSS: 86<br/>R_cueCG: 548<br/>R_cueFS: 94<br/>R_cueGE: 4<br/>R_cueGM: 1<br/>R_cueSS: 93<br/>R_cue_stop: 2<br/>R_resp: 611<br/>R_resp/boundary: 1<br/>R_stopsig: 2<br/>R_stopsigFS: 93<br/>R_stopsigSS: 93<br/>boundary: 342<br/>fix: 1441</td>\n",
       "        \n",
       "    </tr>\n",
       "    <tr>\n",
       "        <th>Time range</th>\n",
       "        <td>-1.000 – 2.000 sec</td>\n",
       "    </tr>\n",
       "    <tr>\n",
       "        <th>Baseline</th>\n",
       "        <td>off</td>\n",
       "    </tr>\n",
       "</table>"
      ],
      "text/plain": [
       "<Epochs |  4826 events (all good), -1 - 2 sec, baseline off, ~3.26 GB, data loaded,\n",
       " 'L_cueCG': 515\n",
       " 'L_cueFS': 103\n",
       " 'L_cueGE': 1\n",
       " 'L_cueGM': 6\n",
       " 'L_cueSS': 86\n",
       " 'L_resp': 601\n",
       " 'L_stopsigFS': 102\n",
       " 'L_stopsigSS': 86\n",
       " 'R_cueCG': 548\n",
       " 'R_cueFS': 94\n",
       " and 12 more events ...>"
      ]
     },
     "execution_count": 32,
     "metadata": {},
     "output_type": "execute_result"
    }
   ],
   "source": [
    "epochs"
   ]
  },
  {
   "cell_type": "code",
   "execution_count": 33,
   "metadata": {},
   "outputs": [],
   "source": [
    "frequencies = np.arange(1, 40, 1) \n",
    "n_cycles = frequencies / 2  \n",
    "\n",
    "SS = epochs['L_stopsigSS', 'R_stopsigSS']\n",
    "FS = epochs['L_stopsigFS', 'R_stopsigFS']\n",
    "GO = epochs['L_cueCG', 'R_cueCG']\n",
    "\n",
    "conditions = {'SS': SS, 'FS': FS, 'GO': GO}"
   ]
  },
  {
   "cell_type": "code",
   "execution_count": 34,
   "metadata": {},
   "outputs": [
    {
     "data": {
      "text/html": [
       "<table class=\"table table-hover table-striped table-sm table-responsive small\">\n",
       "    <tr>\n",
       "        <th>Number of events</th>\n",
       "        <td>179</td>\n",
       "    </tr>\n",
       "    <tr>\n",
       "        <th>Events</th>\n",
       "        \n",
       "        <td>L_stopsigSS: 86<br/>R_stopsigSS: 93</td>\n",
       "        \n",
       "    </tr>\n",
       "    <tr>\n",
       "        <th>Time range</th>\n",
       "        <td>-1.000 – 2.000 sec</td>\n",
       "    </tr>\n",
       "    <tr>\n",
       "        <th>Baseline</th>\n",
       "        <td>off</td>\n",
       "    </tr>\n",
       "</table>"
      ],
      "text/plain": [
       "<Epochs |  179 events (all good), -1 - 2 sec, baseline off, ~123.9 MB, data loaded,\n",
       " 'L_stopsigSS': 86\n",
       " 'R_stopsigSS': 93>"
      ]
     },
     "execution_count": 34,
     "metadata": {},
     "output_type": "execute_result"
    }
   ],
   "source": [
    "SS"
   ]
  },
  {
   "cell_type": "code",
   "execution_count": 35,
   "metadata": {},
   "outputs": [],
   "source": [
    "condition_name='SS'\n",
    "condition=conditions[condition_name]\n",
    "electrode=electrodes[0]"
   ]
  },
  {
   "cell_type": "code",
   "execution_count": 38,
   "metadata": {},
   "outputs": [],
   "source": [
    "times = condition.times\n",
    "ch_idx = condition.ch_names.index(electrode)\n",
    "trials = condition.get_data()[:, ch_idx, :]\n",
    "\n",
    "sfreq = condition.info['sfreq']\n",
    "max_freq = 120\n",
    "foi = np.linspace(1, max_freq, 120)\n",
    "scales = scale_from_period(1/foi)\n",
    "tf_trials = []\n",
    "\n",
    "for trial in trials:\n",
    "    tf = superlet(\n",
    "        trial, sfreq, scales, 40, c_1=4, adaptive=True\n",
    "    )\n",
    "    tf_trials.append(np.single(np.abs(tf)))\n",
    "tf_trials = np.array(tf_trials)"
   ]
  },
  {
   "cell_type": "code",
   "execution_count": 77,
   "metadata": {},
   "outputs": [
    {
     "name": "stdout",
     "output_type": "stream",
     "text": [
      "\n",
      "FOOOF WARNING: Lower-bound peak width limit is < or ~= the frequency resolution: 1.00 <= 0.50\n",
      "\tLower bounds below frequency-resolution have no effect (effective lower bound is the frequency resolution).\n",
      "\tToo low a limit may lead to overfitting noise as small bandwidth peaks.\n",
      "\tWe recommend a lower bound of approximately 2x the frequency resolution.\n",
      "\n"
     ]
    }
   ],
   "source": [
    "average_psd = np.average(tf_trials, axis=(2, 0))\n",
    "\n",
    "ff = FOOOF()\n",
    "ff.fit(foi, average_psd, [1, 120])\n",
    "ap = 10 ** ff._ap_fit "
   ]
  },
  {
   "cell_type": "code",
   "execution_count": 78,
   "metadata": {},
   "outputs": [
    {
     "data": {
      "image/png": "[encoded data removed]",
      "text/plain": [
       "<Figure size 576x216 with 2 Axes>"
      ]
     },
     "metadata": {
      "needs_background": "light"
     },
     "output_type": "display_data"
    }
   ],
   "source": [
    "plt.figure(figsize=(8,3))\n",
    "plt.subplot(1,2,1)\n",
    "plt.imshow(np.mean(tf_trials,axis=0),aspect='auto',extent=[times[0], times[-1], foi[0], foi[-1]], origin='lower')\n",
    "plt.xlabel('Time (s)')\n",
    "plt.ylabel('Frequency (Hz)')\n",
    "plt.subplot(1,2,2)\n",
    "plt.plot(foi,average_psd,label='PSD')\n",
    "plt.plot(foi,ap,label='aperiodic')\n",
    "plt.legend()\n",
    "plt.xlabel('Frequency (Hz)')\n",
    "plt.ylabel('Power')\n",
    "plt.tight_layout()"
   ]
  },
  {
   "cell_type": "code",
   "execution_count": 79,
   "metadata": {},
   "outputs": [
    {
     "name": "stdout",
     "output_type": "stream",
     "text": [
      "\n",
      "FOOOF WARNING: Lower-bound peak width limit is < or ~= the frequency resolution: 1.00 <= 0.50\n",
      "\tLower bounds below frequency-resolution have no effect (effective lower bound is the frequency resolution).\n",
      "\tToo low a limit may lead to overfitting noise as small bandwidth peaks.\n",
      "\tWe recommend a lower bound of approximately 2x the frequency resolution.\n",
      "\n"
     ]
    }
   ],
   "source": [
    "average_psd = np.average(tf_trials, axis=(2, 0))\n",
    "\n",
    "ff = FOOOF()\n",
    "ff.fit(foi, average_psd, [3, 50])\n",
    "ap = 10 ** ff._ap_fit "
   ]
  },
  {
   "cell_type": "code",
   "execution_count": 80,
   "metadata": {},
   "outputs": [
    {
     "data": {
      "image/png": "[encoded data removed]",
      "text/plain": [
       "<Figure size 576x216 with 2 Axes>"
      ]
     },
     "metadata": {
      "needs_background": "light"
     },
     "output_type": "display_data"
    }
   ],
   "source": [
    "plt.figure(figsize=(8,3))\n",
    "plt.subplot(1,2,1)\n",
    "plt.imshow(np.mean(tf_trials,axis=0),aspect='auto',extent=[times[0], times[-1], foi[0], foi[-1]], origin='lower')\n",
    "plt.xlabel('Time (s)')\n",
    "plt.ylabel('Frequency (Hz)')\n",
    "plt.subplot(1,2,2)\n",
    "plt.plot(foi, average_psd,label='PSD')\n",
    "plt.plot(foi[(foi>=3) & (foi<=50)], ap,label='aperiodic')\n",
    "plt.legend()\n",
    "plt.xlabel('Frequency (Hz)')\n",
    "plt.ylabel('Power')\n",
    "plt.tight_layout()"
   ]
  },
  {
   "cell_type": "code",
   "execution_count": null,
   "metadata": {},
   "outputs": [],
   "source": [
    "for subject_id in subject_ids:\n",
    "    print(f\"\\nProcessing {subject_id}...\")\n",
    "\n",
    "    # Create subject output directory\n",
    "    subject_out_dir = os.path.join(output_dir, subject_id)\n",
    "    os.makedirs(subject_out_dir, exist_ok=True)\n",
    "\n",
    "    # Load EEG Data\n",
    "    subject_file = os.path.join(data_path, f\"{subject_id}_stop_eeg_emg_ica_brain.set\")\n",
    "    raw = mne.io.read_raw_eeglab(subject_file, eog='auto', preload=True)\n",
    "    raw.rename_channels({'FP1': 'Fp1', 'FP2': 'Fp2'})\n",
    "\n",
    "    # Load SSD Data\n",
    "    ssd_path = os.path.join(data_dir, f'Dataset_1/Study5_BEH_data/{subject_id}_SSD_stop.mat')\n",
    "    SSD = scipy.io.loadmat(ssd_path)\n",
    "    SSD_data = SSD['num_align2']\n",
    "    df_SSD = pd.DataFrame(SSD_data, columns=['Trial', 'Time', 'Value'])\n",
    "    SSD_val = df_SSD['Value'].mean()\n",
    "\n",
    "    # Set Montage\n",
    "    montage = mne.channels.make_standard_montage(\"easycap-M1\")\n",
    "    raw.set_montage(montage, verbose=False)\n",
    "\n",
    "    # Extract Events and Shift Event Timing\n",
    "    events, event_id = mne.events_from_annotations(raw)\n",
    "    events_shift = events.copy()\n",
    "    for i in range(len(events)):\n",
    "        if events[i][2] in [1, 9]:  # Adjust only L_cueCG and R_cueCG\n",
    "            events_shift[i][0] += int(SSD_val * sfreq)  # Convert SSD value to sample index\n",
    "\n",
    "    # Epoching\n",
    "    epochs = mne.Epochs(raw, events=events_shift, picks='eeg', event_id=event_id,\n",
    "                        tmin=-1, tmax=2, baseline=None, event_repeated='merge', preload=True)\n",
    "    \n",
    "    data = epochs.get_data()  # Shape: (n_epochs, n_channels, n_times)\n",
    "\n",
    "    # Apply zapline filtering across all channels and epochs\n",
    "    filtered_data, iterations = zapline_until_gone(\n",
    "        data, target_freq=24, sfreq=epochs.info['sfreq'],\n",
    "        win_sz=5, spot_sz=1.5, viz=True, prefix=\"all_channels\", max_iter=3\n",
    "    )\n",
    "\n",
    "    # Create a new Epochs object with filtered data\n",
    "    epochs_filtered = mne.EpochsArray(filtered_data, epochs.info, events=epochs.events, event_id=epochs.event_id, tmin=epochs.tmin, baseline=epochs.baseline)\n",
    "\n",
    "    # Replace epochs with filtered epochs for further analysis\n",
    "    epochs = epochs_filtered\n",
    "\n",
    "    # Compute Current Source Density (CSD)\n",
    "    epochs = mne.preprocessing.compute_current_source_density(epochs)\n",
    "\n",
    "    # Define Conditions\n",
    "    conditions = {\n",
    "        'SS': epochs['L_stopsigSS', 'R_stopsigSS'],\n",
    "        'FS': epochs['L_stopsigFS', 'R_stopsigFS'],\n",
    "        'GO': epochs['L_cueCG', 'R_cueCG']\n",
    "    }\n",
    "\n",
    "    for cond, epoch_data in conditions.items():\n",
    "        print(f\"Processing {subject_id} - Condition: {cond}\")\n",
    "\n",
    "        # Create condition-specific directory\n",
    "        cond_out_dir = os.path.join(subject_out_dir, cond)\n",
    "        os.makedirs(cond_out_dir, exist_ok=True)\n",
    "\n",
    "        # Compute PSD before filtering\n",
    "        data = epoch_data.get_data()  # Shape: (n_epochs, n_channels, n_times)\n",
    "\n",
    "        psd_before, freqs = psd_array_welch(data, sfreq=sfreq, fmin=1, fmax=50, verbose=False,\n",
    "                                            n_fft=int(sfreq * 2), n_overlap=int(sfreq))\n",
    "\n",
    "        # Change working directory to save Zapline figures in the correct folder\n",
    "        os.chdir(cond_out_dir)\n",
    "\n",
    "        # Apply Zapline filtering at 24 Hz and save figures in cond_out_dir\n",
    "        prefix = f\"{subject_id}_{cond}_zapline\"\n",
    "        filtered_data, iterations = zapline_until_gone(data, target_freq=24, sfreq=sfreq,\n",
    "                                                       win_sz=5, spot_sz=1.5, viz=True, prefix=prefix, max_iter=3)\n",
    "\n",
    "        # Restore working directory to avoid issues with later file operations\n",
    "        os.chdir(output_dir)\n",
    "\n",
    "        # Compute PSD after filtering\n",
    "        psd_after, _ = psd_array_welch(filtered_data, sfreq=sfreq, fmin=1, fmax=50, verbose=False,\n",
    "                                       n_fft=int(sfreq * 2), n_overlap=int(sfreq))\n",
    "\n",
    "        # Convert to dB\n",
    "        psd_before_db = 10 * np.log10(psd_before)\n",
    "        psd_after_db = 10 * np.log10(psd_after)\n",
    "\n",
    "        # Average across trials\n",
    "        psd_before_db_mean = np.mean(psd_before_db, axis=0)  \n",
    "        psd_after_db_mean = np.mean(psd_after_db, axis=0) \n",
    "        \n",
    "        # Average across channels\n",
    "        psd_before_db_mean_av = np.mean(psd_before_db_mean, axis=0)  \n",
    "        psd_after_db_mean_av = np.mean(psd_after_db_mean, axis=0)  \n",
    "\n",
    "        # Plot and Save PSD before and after filtering\n",
    "        psd_fig_path = os.path.join(cond_out_dir, f\"{subject_id}_{cond}_psd_comparison.png\")\n",
    "        plt.figure(figsize=(10, 5))\n",
    "        plt.plot(freqs, psd_before_db_mean_av, label=\"Before Filtering\", alpha=0.7)\n",
    "        plt.plot(freqs, psd_after_db_mean_av, label=\"After Filtering\", alpha=0.7, linestyle=\"dashed\")\n",
    "        plt.axvline(24, color=\"r\", linestyle=\"--\", label=\"Filtered Freq (24 Hz)\")\n",
    "        plt.xlabel(\"Frequency (Hz)\")\n",
    "        plt.ylabel(\"Power Spectral Density (dB)\")\n",
    "        plt.legend()\n",
    "        plt.title(f\"{subject_id} - {cond}: PSD Before and After Zapline Filtering at 24 Hz\\n(Converged in {iterations} iterations)\")\n",
    "        plt.savefig(psd_fig_path, dpi=300)\n",
    "        plt.close()  # Close the figure after saving\n",
    "\n",
    "        print(f\"Saved results for {subject_id} - {cond} in {cond_out_dir}\")"
   ]
  },
  {
   "cell_type": "code",
   "execution_count": null,
   "metadata": {},
   "outputs": [],
   "source": [
    "from joblib import Parallel, delayed\n",
    "\n",
    "# Define Paths and Variables\n",
    "data_dir = '/home/common/bonaiuto/stop_go_bursts/data/'\n",
    "output_dir = '/home/qmoreau/stop_go_bursts/'\n",
    "data_path = os.path.join(data_dir, 'Dataset_1/Study5_EEG_data/')\n",
    "plot_dir = \"/home/qmoreau/stop_go_bursts/fooof_plots/\"\n",
    "os.makedirs(plot_dir, exist_ok=True)\n",
    "\n",
    "subject_ids = ['S1', 'S2', 'S3', 'S5', 'S6', 'S7', 'S8', 'S10', 'S11', 'S13', 'S14', 'S15']\n",
    "epoch_types = ['GO', 'SS', 'FS']\n",
    "\n",
    "# Create expanded lists\n",
    "subject_list = [subj for subj in subject_ids for _ in epoch_types]\n",
    "epoch_list = epoch_types * len(subject_ids)\n",
    "\n",
    "def process_subject_epoch(subject_id, epoch_type):\n",
    "\n",
    "    subject_out_dir = os.path.join(output_dir, subject_id)\n",
    "    os.makedirs(subject_out_dir, exist_ok=True)\n",
    "\n",
    "    # Load EEG Data\n",
    "    subject_file = os.path.join(data_path, f\"{subject_id}_stop_eeg_emg_ica_brain.set\")\n",
    "    raw = mne.io.read_raw_eeglab(subject_file, eog='auto', preload=True)\n",
    "    raw.rename_channels({'FP1': 'Fp1', 'FP2': 'Fp2'})\n",
    "\n",
    "    # Load SSD Data\n",
    "    ssd_path = os.path.join(data_dir, f'Dataset_1/Study5_BEH_data/{subject_id}_SSD_stop.mat')\n",
    "    SSD = scipy.io.loadmat(ssd_path)\n",
    "    SSD_val = np.mean(SSD['num_align2'][:, 2])\n",
    "\n",
    "    # Set Montage\n",
    "    raw.set_montage(mne.channels.make_standard_montage(\"easycap-M1\"), verbose=False)\n",
    "\n",
    "    # Extract Events and Shift Event Timing\n",
    "    events, event_id = mne.events_from_annotations(raw)\n",
    "    events[:, 0] += np.where(np.isin(events[:, 2], [1, 9]), int(SSD_val * 512), 0)\n",
    "\n",
    "    # Epoching\n",
    "    epochs = mne.Epochs(raw, events=events, event_id=event_id, tmin=-1, tmax=2, \n",
    "                         picks='eeg', baseline=None, event_repeated='merge', preload=True)\n",
    "\n",
    "    # Apply Zapline filtering\n",
    "    epochs._data, _ = zapline_until_gone(epochs.get_data(), target_freq=24, sfreq=512, \n",
    "                                         win_sz=5, spot_sz=1.5, viz=False, prefix=f\"{subject_id}_epoch\", max_iter=3)\n",
    "\n",
    "    # Compute Current Source Density (CSD)\n",
    "    epochs = mne.preprocessing.compute_current_source_density(epochs)\n",
    "\n",
    "    # Select specific condition\n",
    "    conditions = {\n",
    "        'SS': epochs['L_stopsigSS', 'R_stopsigSS'],\n",
    "        'FS': epochs['L_stopsigFS', 'R_stopsigFS'],\n",
    "        'GO': epochs['L_cueCG', 'R_cueCG']\n",
    "    }\n",
    "\n",
    "    if epoch_type not in conditions:\n",
    "        return None  # Skip if invalid epoch type\n",
    "\n",
    "    condition = conditions[epoch_type]\n",
    "    results = []\n",
    "\n",
    "    electrodes = ['C3', 'F4']\n",
    "    for electrode in electrodes:\n",
    "        ch_idx = condition.ch_names.index(electrode)\n",
    "        trials = condition.get_data()[:, ch_idx, :]\n",
    "        foi = np.linspace(1, 120, 120)\n",
    "        scales = scale_from_period(1 / foi)\n",
    "\n",
    "        # Parallelize over epochs\n",
    "        tf_trials = Parallel(n_jobs=-1)(\n",
    "            delayed(lambda trial: np.abs(superlet(trial, condition.info['sfreq'], scales, 40, 4, adaptive=True)))(trial)\n",
    "            for trial in trials\n",
    "        )\n",
    "        tf_trials = np.array(tf_trials)\n",
    "\n",
    "        average_psd = np.mean(tf_trials, axis=(0, 2))\n",
    "\n",
    "        # Fit FOOOF model\n",
    "        ff = FOOOF()\n",
    "        ff.fit(foi, average_psd, [3, 50])\n",
    "        interpolated_ap = 10 ** (ff.aperiodic_params_[0] - ff.aperiodic_params_[1] * np.log10(foi))\n",
    "\n",
    "        # Extract periodic component\n",
    "        psd_periodic = np.maximum(average_psd - interpolated_ap, 0)\n",
    "\n",
    "        search_range = np.where((foi >= 10) & (foi <= 33))[0]\n",
    "        beta_lims = [13, 30]\n",
    "\n",
    "        bursts = extract_bursts(\n",
    "            trials, tf_trials[:, search_range], condition.times,\n",
    "            foi[search_range], beta_lims, interpolated_ap[search_range].reshape(-1, 1), 512\n",
    "        )\n",
    "        bursts['condition'] = np.tile(epoch_type, bursts['trial'].shape)\n",
    "        bursts['electrode'] = np.tile(electrode, bursts['trial'].shape)\n",
    "        bursts['subject'] = np.tile(subject_id, bursts['trial'].shape)\n",
    "        bursts['experiment'] = np.tile('Exp1', bursts['trial'].shape)\n",
    "        bursts['epochs'] = np.tile('Stop', bursts['trial'].shape)\n",
    "\n",
    "        results.append(bursts)\n",
    "\n",
    "    return results\n",
    "\n",
    "# Run in parallel over (subject, epoch) pairs\n",
    "n_jobs = 3\n",
    "bursts_all_results_laplac = Parallel(n_jobs=n_jobs)(\n",
    "    delayed(process_subject_epoch)(subj, ep) for subj, ep in zip(subject_list, epoch_list)\n",
    ")\n",
    "\n",
    "# Flatten and save results\n",
    "bursts_all_results_laplac = [item for sublist in bursts_all_results_laplac if sublist for item in sublist]\n",
    "np.save(f'{output_dir}/bursts_all_results_laplac.npy', bursts_all_results_laplac)\n",
    "\n",
    "print(\"Processing complete.\")"
   ]
  }
 ],
 "metadata": {
  "kernelspec": {
   "display_name": "Python 3 (ipykernel)",
   "language": "python",
   "name": "python3"
  },
  "language_info": {
   "codemirror_mode": {
    "name": "ipython",
    "version": 3
   },
   "file_extension": ".py",
   "mimetype": "text/x-python",
   "name": "python",
   "nbconvert_exporter": "python",
   "pygments_lexer": "ipython3",
   "version": "3.7.11"
  }
 },
 "nbformat": 4,
 "nbformat_minor": 2
}
